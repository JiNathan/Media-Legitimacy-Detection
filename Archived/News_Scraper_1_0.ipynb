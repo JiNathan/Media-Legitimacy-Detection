{
  "nbformat": 4,
  "nbformat_minor": 0,
  "metadata": {
    "colab": {
      "provenance": []
    },
    "kernelspec": {
      "name": "python3",
      "display_name": "Python 3"
    },
    "language_info": {
      "name": "python"
    }
  },
  "cells": [
    {
      "cell_type": "markdown",
      "metadata": {
        "id": "4SD00WAl3BA4"
      },
      "source": [
        "Import Libraries and Initialize Dataset"
      ]
    },
    {
      "cell_type": "code",
      "metadata": {
        "id": "LAldFP7R21zh"
      },
      "source": [
        "import pandas as pd\n",
        "import numpy as np\n"
      ],
      "execution_count": null,
      "outputs": []
    },
    {
      "cell_type": "code",
      "metadata": {
        "colab": {
          "base_uri": "https://localhost:8080/"
        },
        "id": "DpJvLUGS3Xj4",
        "outputId": "b8f3dd2b-352d-4b0b-f8c8-2a8545e688be"
      },
      "source": [
        "from google.colab import drive\n",
        "drive.mount(\"drive\")\n",
        "articledata = pd.read_csv('drive/MyDrive/NewsScraperProject/Datasets/articles1.csv')\n",
        "articledata.head()\n",
        "articledata = articledata.drop(columns=[\"Unnamed: 0\", \"id\", \"author\", \"date\", \"year\", \"month\",\"url\"])\n",
        "articles = 3\n",
        "articledata = articledata[:articles]\n",
        "articledata.info()"
      ],
      "execution_count": null,
      "outputs": [
        {
          "output_type": "stream",
          "text": [
            "Mounted at drive\n",
            "<class 'pandas.core.frame.DataFrame'>\n",
            "RangeIndex: 3 entries, 0 to 2\n",
            "Data columns (total 3 columns):\n",
            " #   Column       Non-Null Count  Dtype \n",
            "---  ------       --------------  ----- \n",
            " 0   title        3 non-null      object\n",
            " 1   publication  3 non-null      object\n",
            " 2   content      3 non-null      object\n",
            "dtypes: object(3)\n",
            "memory usage: 200.0+ bytes\n"
          ],
          "name": "stdout"
        }
      ]
    },
    {
      "cell_type": "markdown",
      "metadata": {
        "id": "GsRdGnx24ZWv"
      },
      "source": [
        "Augment the content using sentiment anaylsis --> separate sentences and change to numerical values"
      ]
    },
    {
      "cell_type": "code",
      "metadata": {
        "id": "46zR0c8ufh_z"
      },
      "source": [
        "!pip install spacy==3.1.1\n",
        "!python -m spacy download en_core_web_sm\n",
        "!python -m spacy info"
      ],
      "execution_count": null,
      "outputs": []
    },
    {
      "cell_type": "code",
      "metadata": {
        "id": "ztpbhPQZJonU",
        "colab": {
          "base_uri": "https://localhost:8080/"
        },
        "outputId": "6e8e1170-1243-487a-b9d5-b58c652c9743"
      },
      "source": [
        "import spacy\n",
        "nlp = spacy.load(\"en_core_web_sm\")\n",
        "\n",
        "for i in range(articles):\n",
        "  doc = nlp(articledata[\"content\"][i])\n",
        "  temp = [sent.text.strip() for sent in doc.sents]\n",
        "  articledata[\"content\"][i] = temp\n",
        "articledata.head()\n",
        "print(articledata[\"content\"][0])"
      ],
      "execution_count": null,
      "outputs": [
        {
          "output_type": "stream",
          "text": [
            "['WASHINGTON  —', 'Congressional Republicans have a new fear when it comes to their    health care lawsuit against the Obama administration: They might win.', 'The incoming Trump administration could choose to no longer defend the executive branch against the suit, which challenges the administration’s authority to spend billions of dollars on health insurance subsidies for   and   Americans, handing House Republicans a big victory on    issues.', 'But a sudden loss of the disputed subsidies could conceivably cause the health care program to implode, leaving millions of people without access to health insurance before Republicans have prepared a replacement.', 'That could lead to chaos in the insurance market and spur a political backlash just as Republicans gain full control of the government.', 'To stave off that outcome, Republicans could find themselves in the awkward position of appropriating huge sums to temporarily prop up the Obama health care law, angering conservative voters who have been demanding an end to the law for years.', 'In another twist, Donald J. Trump’s administration, worried about preserving executive branch prerogatives, could choose to fight its Republican allies in the House on some central questions in the dispute.', 'Eager to avoid an ugly political pileup, Republicans on Capitol Hill and the Trump transition team are gaming out how to handle the lawsuit, which, after the election, has been put in limbo until at least late February by the United States Court of Appeals for the District of Columbia Circuit.', 'They are not yet ready to divulge their strategy.', '“Given that this pending litigation involves the Obama administration and Congress, it would be inappropriate to comment,” said Phillip J. Blando, a spokesman for the Trump transition effort.', '“Upon taking office, the Trump administration will evaluate this case and all related aspects of the Affordable Care Act. ”', 'In a potentially   decision in 2015, Judge Rosemary M. Collyer ruled that House Republicans had the standing to sue the executive branch over a spending dispute and that the Obama administration had been distributing the health insurance subsidies, in violation of the Constitution, without approval from Congress.', 'The Justice Department, confident that Judge Collyer’s decision would be reversed, quickly appealed, and the subsidies have remained in place during the appeal.', 'In successfully seeking a temporary halt in the proceedings after Mr. Trump won, House Republicans last month told the court that they “and the  ’s transition team currently are discussing potential options for resolution of this matter, to take effect after the  ’s inauguration on Jan. 20, 2017. ”', 'The suspension of the case, House lawyers said, will “provide', 'the   and his future administration time to consider whether to continue prosecuting or to otherwise resolve this appeal. ”', 'Republican leadership officials in the House acknowledge the possibility of “cascading effects” if the   payments, which have totaled an estimated $13 billion, are suddenly stopped.', 'Insurers that receive the subsidies in exchange for paying    costs such as deductibles and   for eligible consumers could race to drop coverage since they would be losing money.', 'Over all, the loss of the subsidies could destabilize the entire program and cause a lack of confidence that leads other insurers to seek a quick exit as well.', 'Anticipating that the Trump administration might not be inclined to mount a vigorous fight against the House Republicans given the  ’s dim view of the health care law, a team of lawyers this month sought to intervene in the case on behalf of two participants in the health care program.', 'In their request, the lawyers predicted that a deal between House Republicans and the new administration to dismiss or settle the case “will produce devastating consequences for the individuals who receive these reductions, as well as for the nation’s health insurance and health care systems generally. ”', 'No matter what happens, House Republicans say, they want to prevail on two overarching concepts: the congressional power of the purse, and the right of Congress to sue the executive branch if it violates the Constitution regarding that spending power.', 'House Republicans contend that Congress never appropriated the money for the subsidies, as required by the Constitution.', 'In the suit, which was initially championed by John A. Boehner, the House speaker at the time, and later in House committee reports, Republicans asserted that the administration, desperate for the funding, had required the Treasury Department to provide it despite widespread internal skepticism that the spending was proper.', 'The White House said that the spending was a permanent part of the law passed in 2010, and that no annual appropriation was required  —   even though the administration initially sought one.', 'Just as important to House Republicans, Judge Collyer found that Congress had the standing to sue the White House on this issue  —   a ruling that many legal experts said was flawed  —   and they want that precedent to be set to restore congressional leverage over the executive branch.', 'But on spending power and standing, the Trump administration may come under pressure from advocates of presidential authority to fight the House no matter their shared views on health care, since those precedents could have broad repercussions.', 'It is a complicated set of dynamics illustrating how a quick legal victory for the House in the Trump era might come with costs that Republicans never anticipated when they took on the Obama White House.']\n"
          ],
          "name": "stdout"
        }
      ]
    },
    {
      "cell_type": "code",
      "metadata": {
        "id": "GAqosEGH4bVe"
      },
      "source": [
        "# Spacy Sentiment Anaylsis\n",
        "# import spacy\n",
        "# !pip install SpacyTextBlob\n",
        "# from spacytextblob.spacytextblob import SpacyTextBlob\n",
        "# import en_core_web_sm\n",
        "\n",
        "# nlp = en_core_web_sm.load()\n",
        "# nlp.add_pipe('spacytextblob')\n",
        "     \n",
        "\n",
        "# def spacySentiment(sentences):\n",
        "#   sentiment = []\n",
        "#   for i in sentences:\n",
        "#     doc = nlp(i)\n",
        "#     sentiment.append(doc._.polarity)\n",
        "#   return sentiment \n",
        "\n",
        "# for i in articledata[\"content\"]:\n",
        "#   spacySentiment(i)\n",
        "\n"
      ],
      "execution_count": null,
      "outputs": []
    },
    {
      "cell_type": "code",
      "metadata": {
        "id": "_fE_NcGH-TtV",
        "colab": {
          "base_uri": "https://localhost:8080/"
        },
        "outputId": "57b8a18f-3a8a-4b47-bdaf-3ce75fbbbab9"
      },
      "source": [
        "#NLTK sentiment anaylsis\n",
        "!pip install nltk\n",
        "import nltk\n",
        "from nltk.sentiment import SentimentIntensityAnalyzer\n",
        "nltk.download('vader_lexicon')\n",
        "contentsentiment = [[]]\n",
        "def nltkSentiment(sentence):\n",
        "  #NLTK anaylzer provides 4 datapoints in a dictionary --> compound datapoint is used; range is -1 to 1 where -1 being most negative and 1 being most positive\n",
        "  anaylzer = SentimentIntensityAnalyzer()\n",
        "  return anaylzer.polarity_scores(sentence)[\"compound\"]\n",
        "\n",
        "for i in articledata[\"content\"]:\n",
        "  sentiments = []\n",
        "  for j in i:\n",
        "    # print(j)\n",
        "    sentiments.append(nltkSentiment(j))\n",
        "    # print(nltkSentiment(j))\n",
        "  contentsentiment.append(sentiments)\n",
        "\n",
        "print(contentsentiment)\n"
      ],
      "execution_count": null,
      "outputs": [
        {
          "output_type": "stream",
          "text": [
            "Requirement already satisfied: nltk in /usr/local/lib/python3.7/dist-packages (3.2.5)\n",
            "Requirement already satisfied: six in /usr/local/lib/python3.7/dist-packages (from nltk) (1.15.0)\n"
          ],
          "name": "stdout"
        },
        {
          "output_type": "stream",
          "text": [
            "/usr/local/lib/python3.7/dist-packages/nltk/twitter/__init__.py:20: UserWarning: The twython library has not been installed. Some functionality from the twitter package will not be available.\n",
            "  warnings.warn(\"The twython library has not been installed. \"\n"
          ],
          "name": "stderr"
        },
        {
          "output_type": "stream",
          "text": [
            "[nltk_data] Downloading package vader_lexicon to /root/nltk_data...\n",
            "[[], [0.0, 0.4404, -0.1531, 0.1027, -0.0772, -0.0516, -0.7579, -0.4939, -0.2755, -0.2023, 0.4939, -0.8153, 0.765, 0.792, 0.0, 0.3818, -0.2263, -0.5719, 0.2023, 0.5859, 0.0, -0.6249, 0.0516, 0.3485, -0.296, 0.5859, 0.0, 0.3818], [-0.5423, -0.8979, 0.0, -0.802, -0.9448, 0.0, -0.9319, -0.3182, 0.0, 0.0, -0.8126, 0.0, -0.9423, 0.0, -0.8074, 0.5584, 0.0, 0.6486, -0.7003, 0.0772, -0.1027, -0.2023, -0.5994, -0.1531, 0.0, 0.5413, 0.0, -0.936, -0.0516, -0.5267, -0.6249, -0.8595, -0.4588, -0.1027, 0.4215, -0.296, -0.7579, -0.0516, -0.5423, 0.0, -0.6124, -0.4939, 0.0, 0.0, -0.8832, -0.5829, -0.5423, -0.4215, -0.128, 0.0, -0.6249, 0.0, 0.0, 0.3612, -0.4767, -0.875, -0.5423, 0.0, 0.3182, -0.6486, -0.0258, -0.0772, -0.8074, 0.0, 0.0, -0.4939, -0.8271, -0.5106, 0.0, 0.0, 0.0, 0.0, -0.8316, 0.0, -0.875, 0.0, 0.0, -0.296, -0.5423, 0.0, 0.3612, -0.296, 0.2905, 0.0, -0.5859, 0.3919, 0.0, 0.0, 0.0, -0.296, -0.3612, 0.0, 0.0, 0.3612, 0.0, -0.813, -0.8555, -0.7964, 0.7351, 0.0, 0.0, 0.5106, 0.3612, 0.3612, 0.0772, 0.0, 0.0, 0.0, 0.0, 0.0772, 0.0, -0.25, -0.5095, 0.4404, 0.4019, -0.6606, -0.6597, -0.4019, 0.0, 0.0, -0.7964, -0.5994, 0.0, -0.791, -0.9747, 0.0, -0.8126, -0.8126, -0.7003, 0.1494, -0.5423, 0.6369, 0.5574, 0.3182, 0.0258, 0.0, -0.5046, 0.4215, -0.7184, 0.6908, -0.8481, 0.6369, -0.5423, -0.5994, -0.7783, 0.2748, -0.5423, 0.1531, -0.5719, 0.0, 0.1027, -0.4404, 0.0, 0.0, 0.0, 0.0, -0.2023, -0.8779, -0.6059, -0.4641, 0.5106, 0.4939, -0.7845, 0.6908, -0.6597, -0.6369, -0.3089, -0.4404, -0.886, -0.4588, 0.7364, -0.7269, -0.5106, -0.9062, 0.0, 0.4939, 0.673, -0.34, -0.296, -0.6369, 0.0, -0.4404, 0.0, 0.0, 0.0, 0.0, -0.4215, -0.0781, -0.4404, -0.5423, -0.5198, -0.4019, 0.0, 0.0, -0.2846, -0.296, -0.5267, 0.0, 0.0772, -0.4019, 0.0, 0.3818, 0.0, 0.0, 0.0, 0.5267, 0.0, -0.5423, 0.5106, 0.0, 0.0, 0.0, 0.4215, 0.5267, 0.0, 0.4767, 0.0, 0.6597, -0.4927, -0.7308, 0.3612, -0.0379, -0.4939, -0.6908, 0.0, 0.0], [-0.0258, 0.6597, 0.0, 0.1531, -0.1531, -0.5574, 0.0, 0.7902, 0.0, 0.4215, -0.5574, 0.0, 0.5267, 0.0, 0.0, 0.0, 0.0, 0.0, 0.0, 0.4404, 0.25, 0.0, 0.2681, 0.0, 0.0, 0.7717, 0.7845, 0.0, 0.1779, -0.1779, -0.34, -0.6486, 0.5994, 0.0772, 0.3612, 0.0, 0.0, 0.0, 0.2732, 0.0, 0.0, 0.0, 0.0, -0.3818, -0.34, -0.0258, -0.1027, -0.25, 0.0, 0.0, 0.0, 0.5777, 0.0, 0.6597, -0.4019, -0.7783, 0.0, -0.4939, -0.4939, -0.6369, 0.0, -0.3818, -0.1027, 0.6437, 0.0, 0.0, -0.3182, 0.0, 0.296, 0.0, 0.0, 0.0, 0.4215, -0.2023, 0.0, 0.0, 0.0, -0.5574, 0.6124, 0.4767, 0.296, 0.25, 0.0, 0.0, 0.0, -0.2732, -0.4939, 0.1027, 0.9022, 0.0, 0.25, 0.0, 0.0, 0.0, -0.3612, 0.0, -0.34, 0.5106, 0.6369, 0.7269, 0.0, 0.0, 0.7096, 0.0, 0.0258, -0.7845, 0.0951, 0.4404, -0.4404, 0.3612, 0.0, 0.0, 0.0, 0.0, -0.5994, -0.5994, 0.4939, -0.5994, -0.5994, 0.7096, 0.0, 0.7003, 0.3612, 0.1027, -0.5994, 0.0, 0.4939, 0.6124, 0.0, -0.296, -0.5994, 0.0, 0.6124, 0.0, -0.1586]]\n"
          ],
          "name": "stdout"
        }
      ]
    }
  ]
}