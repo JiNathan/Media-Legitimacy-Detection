{
  "nbformat": 4,
  "nbformat_minor": 0,
  "metadata": {
    "colab": {
      "provenance": [],
      "collapsed_sections": [
        "-ReiB5VbyxdA"
      ]
    },
    "kernelspec": {
      "display_name": "Python 3",
      "name": "python3"
    },
    "language_info": {
      "name": "python"
    }
  },
  "cells": [
    {
      "cell_type": "code",
      "metadata": {
        "colab": {
          "base_uri": "https://localhost:8080/"
        },
        "id": "Kka10WYzd6r_",
        "outputId": "e8122e07-9ec2-4bc8-f2aa-cd233ef63030"
      },
      "source": [
        "import os\n",
        "from google.colab import drive\n",
        "import pandas as pd\n",
        "import numpy as np\n",
        "import matplotlib.pyplot as plt\n",
        "import itertools\n",
        "import random\n",
        "\n",
        "import nltk\n",
        "nltk.download('punkt')\n",
        "\n",
        "from sklearn.model_selection import train_test_split\n",
        "from sklearn.feature_extraction.text import CountVectorizer\n",
        "from sklearn.feature_extraction.text import TfidfVectorizer\n",
        "from sklearn.linear_model import PassiveAggressiveClassifier\n",
        "from sklearn.metrics import accuracy_score\n",
        "from sklearn.naive_bayes import MultinomialNB\n",
        "from sklearn.metrics import confusion_matrix\n",
        "from sklearn.ensemble import RandomForestClassifier\n",
        "drive.mount(\"drive\")\n",
        "df = pd.read_csv('drive/MyDrive/NewsScraperProject/Datasets/ScalePartisan.csv', header=None)\n",
        "booleandf = pd.read_csv('drive/MyDrive/NewsScraperProject/Datasets/BooleanPartisan.csv', header=None)\n",
        "dftest = pd.read_csv('drive/MyDrive/NewsScraperProject/Datasets/articles1.csv')[:50]\n",
        "\n",
        "display(df)"
      ],
      "execution_count": null,
      "outputs": [
        {
          "output_type": "stream",
          "name": "stdout",
          "text": [
            "[nltk_data] Downloading package punkt to /root/nltk_data...\n",
            "[nltk_data]   Unzipping tokenizers/punkt.zip.\n",
            "Mounted at drive\n"
          ]
        }
      ]
    },
    {
      "cell_type": "code",
      "metadata": {
        "colab": {
          "base_uri": "https://localhost:8080/",
          "height": 877
        },
        "id": "25beljYB55g6",
        "outputId": "7a4b0d47-c816-43d0-f767-f69529a3738a"
      },
      "source": [
        "#clean and augment dataset\n",
        "import re,string\n",
        "from nltk.sentiment import SentimentIntensityAnalyzer\n",
        "import ast\n",
        "nltk.download('vader_lexicon')\n",
        "\n",
        "def clean(text):\n",
        "    link_regex    = re.compile('((https?):((//)|(\\\\\\\\))+([\\w\\d:#@%/;$()~_?\\+-=\\\\\\.&](#!)?)*)', re.DOTALL)\n",
        "    links         = re.findall(link_regex, text)\n",
        "    for link in links:\n",
        "        text = text.replace(link[0], ', ')    \n",
        "    return ' '.join(re.sub(\"(@[A-Za-z0-9]+)|([^0-9A-Za-z \\t])|(\\w+:\\/\\/\\S+)\",\" \",text).split())\n",
        "\n",
        "df[3] = df[3].apply(clean)\n",
        "booleandf[3] = booleandf[3].apply(clean)\n",
        "\n",
        "def nltkSentiment(sentence):\n",
        "  #NLTK anaylzer provides 4 datapoints in a dictionary --> compound datapoint is used; range is -1 to 1 where -1 being most negative and 1 being most positive\n",
        "  anaylzer = SentimentIntensityAnalyzer()\n",
        "  return anaylzer.polarity_scores(sentence)[\"neg\"]\n",
        "\n",
        "df[4] = df[3].apply(nltkSentiment)\n",
        "booleandf[4] = booleandf[3].apply(nltkSentiment)\n",
        "\n",
        "display(df)\n",
        "display(booleandf)"
      ],
      "execution_count": null,
      "outputs": [
        {
          "name": "stderr",
          "output_type": "stream",
          "text": [
            "/usr/local/lib/python3.7/dist-packages/nltk/twitter/__init__.py:20: UserWarning: The twython library has not been installed. Some functionality from the twitter package will not be available.\n",
            "  warnings.warn(\"The twython library has not been installed. \"\n"
          ]
        },
        {
          "name": "stdout",
          "output_type": "stream",
          "text": [
            "[nltk_data] Downloading package vader_lexicon to /root/nltk_data...\n"
          ]
        },
        {
          "data": {
            "text/html": [
              "<div>\n",
              "<style scoped>\n",
              "    .dataframe tbody tr th:only-of-type {\n",
              "        vertical-align: middle;\n",
              "    }\n",
              "\n",
              "    .dataframe tbody tr th {\n",
              "        vertical-align: top;\n",
              "    }\n",
              "\n",
              "    .dataframe thead th {\n",
              "        text-align: right;\n",
              "    }\n",
              "</style>\n",
              "<table border=\"1\" class=\"dataframe\">\n",
              "  <thead>\n",
              "    <tr style=\"text-align: right;\">\n",
              "      <th></th>\n",
              "      <th>0</th>\n",
              "      <th>1</th>\n",
              "      <th>2</th>\n",
              "      <th>3</th>\n",
              "      <th>4</th>\n",
              "    </tr>\n",
              "  </thead>\n",
              "  <tbody>\n",
              "    <tr>\n",
              "      <th>0</th>\n",
              "      <td>Right</td>\n",
              "      <td>Fox News</td>\n",
              "      <td>1.0</td>\n",
              "      <td>White House backtracks after Biden raises eyeb...</td>\n",
              "      <td>0.000</td>\n",
              "    </tr>\n",
              "    <tr>\n",
              "      <th>1</th>\n",
              "      <td>Right</td>\n",
              "      <td>Fox News</td>\n",
              "      <td>1.0</td>\n",
              "      <td>Newsom signs controversial bill requiring ethn...</td>\n",
              "      <td>0.130</td>\n",
              "    </tr>\n",
              "    <tr>\n",
              "      <th>2</th>\n",
              "      <td>Right</td>\n",
              "      <td>Fox News</td>\n",
              "      <td>1.0</td>\n",
              "      <td>McConnell slams Garland for school board memo ...</td>\n",
              "      <td>0.117</td>\n",
              "    </tr>\n",
              "    <tr>\n",
              "      <th>3</th>\n",
              "      <td>Right</td>\n",
              "      <td>Fox News</td>\n",
              "      <td>1.0</td>\n",
              "      <td>Biden indicates he pressured emergency room to...</td>\n",
              "      <td>0.256</td>\n",
              "    </tr>\n",
              "    <tr>\n",
              "      <th>4</th>\n",
              "      <td>Right</td>\n",
              "      <td>Fox News</td>\n",
              "      <td>1.0</td>\n",
              "      <td>GOP demands Biden stop bullying airlines with ...</td>\n",
              "      <td>0.323</td>\n",
              "    </tr>\n",
              "    <tr>\n",
              "      <th>...</th>\n",
              "      <td>...</td>\n",
              "      <td>...</td>\n",
              "      <td>...</td>\n",
              "      <td>...</td>\n",
              "      <td>...</td>\n",
              "    </tr>\n",
              "    <tr>\n",
              "      <th>115</th>\n",
              "      <td>Control</td>\n",
              "      <td>NoSource</td>\n",
              "      <td>0.0</td>\n",
              "      <td>Light travels extremely quickly and is used in...</td>\n",
              "      <td>0.000</td>\n",
              "    </tr>\n",
              "    <tr>\n",
              "      <th>116</th>\n",
              "      <td>Control</td>\n",
              "      <td>NoSource</td>\n",
              "      <td>0.0</td>\n",
              "      <td>Control sentences help us establish factual se...</td>\n",
              "      <td>0.179</td>\n",
              "    </tr>\n",
              "    <tr>\n",
              "      <th>117</th>\n",
              "      <td>Control</td>\n",
              "      <td>NoSource</td>\n",
              "      <td>0.0</td>\n",
              "      <td>The length of sentences can greatly impact the...</td>\n",
              "      <td>0.000</td>\n",
              "    </tr>\n",
              "    <tr>\n",
              "      <th>118</th>\n",
              "      <td>Control</td>\n",
              "      <td>NoSource</td>\n",
              "      <td>0.0</td>\n",
              "      <td>Attention span is something that many news sou...</td>\n",
              "      <td>0.000</td>\n",
              "    </tr>\n",
              "    <tr>\n",
              "      <th>119</th>\n",
              "      <td>Control</td>\n",
              "      <td>NoSource</td>\n",
              "      <td>0.0</td>\n",
              "      <td>News today is less polarized than news that ex...</td>\n",
              "      <td>0.000</td>\n",
              "    </tr>\n",
              "  </tbody>\n",
              "</table>\n",
              "<p>120 rows × 5 columns</p>\n",
              "</div>"
            ],
            "text/plain": [
              "           0  ...      4\n",
              "0      Right  ...  0.000\n",
              "1      Right  ...  0.130\n",
              "2      Right  ...  0.117\n",
              "3      Right  ...  0.256\n",
              "4      Right  ...  0.323\n",
              "..       ...  ...    ...\n",
              "115  Control  ...  0.000\n",
              "116  Control  ...  0.179\n",
              "117  Control  ...  0.000\n",
              "118  Control  ...  0.000\n",
              "119  Control  ...  0.000\n",
              "\n",
              "[120 rows x 5 columns]"
            ]
          },
          "metadata": {},
          "output_type": "display_data"
        },
        {
          "data": {
            "text/html": [
              "<div>\n",
              "<style scoped>\n",
              "    .dataframe tbody tr th:only-of-type {\n",
              "        vertical-align: middle;\n",
              "    }\n",
              "\n",
              "    .dataframe tbody tr th {\n",
              "        vertical-align: top;\n",
              "    }\n",
              "\n",
              "    .dataframe thead th {\n",
              "        text-align: right;\n",
              "    }\n",
              "</style>\n",
              "<table border=\"1\" class=\"dataframe\">\n",
              "  <thead>\n",
              "    <tr style=\"text-align: right;\">\n",
              "      <th></th>\n",
              "      <th>0</th>\n",
              "      <th>1</th>\n",
              "      <th>2</th>\n",
              "      <th>3</th>\n",
              "      <th>4</th>\n",
              "    </tr>\n",
              "  </thead>\n",
              "  <tbody>\n",
              "    <tr>\n",
              "      <th>0</th>\n",
              "      <td>Right</td>\n",
              "      <td>Fox News</td>\n",
              "      <td>1</td>\n",
              "      <td>White House backtracks after Biden raises eyeb...</td>\n",
              "      <td>0.000</td>\n",
              "    </tr>\n",
              "    <tr>\n",
              "      <th>1</th>\n",
              "      <td>Right</td>\n",
              "      <td>Fox News</td>\n",
              "      <td>1</td>\n",
              "      <td>Newsom signs controversial bill requiring ethn...</td>\n",
              "      <td>0.130</td>\n",
              "    </tr>\n",
              "    <tr>\n",
              "      <th>2</th>\n",
              "      <td>Right</td>\n",
              "      <td>Fox News</td>\n",
              "      <td>1</td>\n",
              "      <td>McConnell slams Garland for school board memo ...</td>\n",
              "      <td>0.117</td>\n",
              "    </tr>\n",
              "    <tr>\n",
              "      <th>3</th>\n",
              "      <td>Right</td>\n",
              "      <td>Fox News</td>\n",
              "      <td>1</td>\n",
              "      <td>Biden indicates he pressured emergency room to...</td>\n",
              "      <td>0.256</td>\n",
              "    </tr>\n",
              "    <tr>\n",
              "      <th>4</th>\n",
              "      <td>Right</td>\n",
              "      <td>Fox News</td>\n",
              "      <td>1</td>\n",
              "      <td>GOP demands Biden stop bullying airlines with ...</td>\n",
              "      <td>0.323</td>\n",
              "    </tr>\n",
              "    <tr>\n",
              "      <th>...</th>\n",
              "      <td>...</td>\n",
              "      <td>...</td>\n",
              "      <td>...</td>\n",
              "      <td>...</td>\n",
              "      <td>...</td>\n",
              "    </tr>\n",
              "    <tr>\n",
              "      <th>115</th>\n",
              "      <td>Control</td>\n",
              "      <td>NoSource</td>\n",
              "      <td>0</td>\n",
              "      <td>Light travels extremely quickly and is used in...</td>\n",
              "      <td>0.000</td>\n",
              "    </tr>\n",
              "    <tr>\n",
              "      <th>116</th>\n",
              "      <td>Control</td>\n",
              "      <td>NoSource</td>\n",
              "      <td>0</td>\n",
              "      <td>Control sentences help us establish factual se...</td>\n",
              "      <td>0.179</td>\n",
              "    </tr>\n",
              "    <tr>\n",
              "      <th>117</th>\n",
              "      <td>Control</td>\n",
              "      <td>NoSource</td>\n",
              "      <td>0</td>\n",
              "      <td>The length of sentences can greatly impact the...</td>\n",
              "      <td>0.000</td>\n",
              "    </tr>\n",
              "    <tr>\n",
              "      <th>118</th>\n",
              "      <td>Control</td>\n",
              "      <td>NoSource</td>\n",
              "      <td>0</td>\n",
              "      <td>Attention span is something that many news sou...</td>\n",
              "      <td>0.000</td>\n",
              "    </tr>\n",
              "    <tr>\n",
              "      <th>119</th>\n",
              "      <td>Control</td>\n",
              "      <td>NoSource</td>\n",
              "      <td>0</td>\n",
              "      <td>News today is less polarized than news that ex...</td>\n",
              "      <td>0.000</td>\n",
              "    </tr>\n",
              "  </tbody>\n",
              "</table>\n",
              "<p>120 rows × 5 columns</p>\n",
              "</div>"
            ],
            "text/plain": [
              "           0  ...      4\n",
              "0      Right  ...  0.000\n",
              "1      Right  ...  0.130\n",
              "2      Right  ...  0.117\n",
              "3      Right  ...  0.256\n",
              "4      Right  ...  0.323\n",
              "..       ...  ...    ...\n",
              "115  Control  ...  0.000\n",
              "116  Control  ...  0.179\n",
              "117  Control  ...  0.000\n",
              "118  Control  ...  0.000\n",
              "119  Control  ...  0.000\n",
              "\n",
              "[120 rows x 5 columns]"
            ]
          },
          "metadata": {},
          "output_type": "display_data"
        }
      ]
    },
    {
      "cell_type": "code",
      "metadata": {
        "colab": {
          "base_uri": "https://localhost:8080/"
        },
        "id": "3infrCmvdaVu",
        "outputId": "9c7c8dbd-6f03-432c-8fd4-88d32e01e5c4"
      },
      "source": [
        "from sklearn.model_selection import train_test_split\n",
        "from sklearn.pipeline import Pipeline\n",
        "from sklearn.feature_extraction.text import CountVectorizer\n",
        "from sklearn.feature_extraction.text import TfidfTransformer\n",
        "from sklearn.metrics import accuracy_score\n",
        "from sklearn import preprocessing\n",
        "X_train,X_test,y_train,y_test = train_test_split(booleandf[3], booleandf[2], test_size=0.8)\n",
        "# lab_enc = preprocessing.LabelEncoder()\n",
        "# encoded = lab_enc.fit_transform(y_train)\n",
        "# encodedtest = lab_enc.fit_transform(y_test)\n",
        "from sklearn.linear_model import LogisticRegression\n",
        "pipe = Pipeline([('vect', CountVectorizer()),\n",
        "                 ('tfidf', TfidfTransformer()),\n",
        "                 ('model', LogisticRegression())])\n",
        "# Fitting the model\n",
        "regmodel = pipe.fit(X_train, y_train)\n",
        "# Accuracy\n",
        "prediction = regmodel.predict(X_test)\n",
        "print(\"accuracy: {}%\".format(round(accuracy_score(y_test, prediction)*100,2)))"
      ],
      "execution_count": null,
      "outputs": [
        {
          "name": "stdout",
          "output_type": "stream",
          "text": [
            "accuracy: 66.67%\n"
          ]
        }
      ]
    },
    {
      "cell_type": "code",
      "metadata": {
        "colab": {
          "base_uri": "https://localhost:8080/"
        },
        "id": "GOkJ_76BfRIn",
        "outputId": "b085a59e-c772-4366-92c5-55366881c17e"
      },
      "source": [
        "regmodel.predict([\"Biden refuses to assert privilege over Trump documents sought by January 6 committee\"])"
      ],
      "execution_count": null,
      "outputs": [
        {
          "data": {
            "text/plain": [
              "array([1])"
            ]
          },
          "execution_count": 5,
          "metadata": {},
          "output_type": "execute_result"
        }
      ]
    },
    {
      "cell_type": "code",
      "metadata": {
        "colab": {
          "base_uri": "https://localhost:8080/"
        },
        "id": "cSDxrQ0UiW5C",
        "outputId": "ea4c09cd-9939-411c-90a1-09ae1e7f63a0"
      },
      "source": [
        "from sklearn.ensemble import RandomForestClassifier\n",
        "X_train,X_test,y_train,y_test = train_test_split(booleandf[3], booleandf[2], test_size=0.7)\n",
        "pipe = Pipeline([('vect', CountVectorizer()),\n",
        "                ('tfidf', TfidfTransformer()),\n",
        "                ('model', RandomForestClassifier())])\n",
        "model = pipe.fit(X_train, y_train)\n",
        "prediction = model.predict(X_test)\n",
        "print(\"accuracy: {}%\".format(round(accuracy_score(y_test, prediction)*100,2)))"
      ],
      "execution_count": null,
      "outputs": [
        {
          "name": "stdout",
          "output_type": "stream",
          "text": [
            "accuracy: 70.24%\n"
          ]
        }
      ]
    },
    {
      "cell_type": "code",
      "metadata": {
        "colab": {
          "base_uri": "https://localhost:8080/"
        },
        "id": "CXvuO7FmN7XS",
        "outputId": "1f3b4ba1-a99c-49c9-f344-c3a4631dec0d"
      },
      "source": [
        "#Testing Model\n",
        "import spacy\n",
        "nlp = spacy.load(\"en_core_web_sm\")\n",
        "\n",
        "def modelTest(sentences):\n",
        "    print(\"**************************** Start of Article Testing ****************************\")\n",
        "    predictions = model.predict(sentences)\n",
        "    print(predictions)\n",
        "    for i in range(len(sentences)):\n",
        "      print(predictions[i])\n",
        "      print(sentences[i])\n",
        "\n",
        "    \n",
        "def clean(text):\n",
        "    link_regex    = re.compile('((https?):((//)|(\\\\\\\\))+([\\w\\d:#@%/;$()~_?\\+-=\\\\\\.&](#!)?)*)', re.DOTALL)\n",
        "    links         = re.findall(link_regex, text)\n",
        "    for link in links:\n",
        "        text = text.replace(link[0], ', ')    \n",
        "    return ' '.join(re.sub(\"(@[A-Za-z0-9]+)|([^0-9A-Za-z \\t])|(\\w+:\\/\\/\\S+)\",\" \",text).split())  \n",
        "\n",
        "dftest[\"content\"] = dftest[\"content\"].apply(clean)\n",
        "\n",
        "for i in range(1):\n",
        "  doc = nlp(dftest[\"content\"][i])\n",
        "  temp = [sent.text.strip() for sent in doc.sents]\n",
        "  print(temp)\n",
        "  modelTest(temp)\n",
        "  "
      ],
      "execution_count": null,
      "outputs": [
        {
          "name": "stdout",
          "output_type": "stream",
          "text": [
            "['WASHINGTON Congressional Republicans have a new fear when it comes to their health care lawsuit against the Obama administration', 'They might win', 'The incoming Trump administration could choose to no longer defend the executive branch against the suit which challenges the administration s authority to spend billions of dollars on health insurance subsidies for and Americans handing House Republicans a big victory on issues But a sudden loss of the disputed subsidies could conceivably cause the health care program to implode leaving millions of people without access to health insurance before Republicans have prepared a replacement That could lead to chaos in the insurance market and spur a political backlash just as Republicans gain full control of the government To stave off that outcome Republicans could find themselves in the awkward position of appropriating huge sums to temporarily prop up the Obama health care law angering conservative voters who have been demanding an end to the law for years', 'In another twist Donald J Trump s administration worried about preserving executive branch prerogatives could choose to fight its Republican allies in the House on some central questions in the dispute Eager to avoid an ugly political pileup Republicans on Capitol Hill and the Trump transition team are gaming out how to handle the lawsuit which after the election has been put in limbo until at least late February by the United States Court of Appeals for the District of Columbia Circuit', 'They are not yet ready to divulge their strategy', 'Given that this pending litigation involves the Obama administration and Congress it would be inappropriate to comment', 'said Phillip J Blando a spokesman for the Trump transition effort', 'Upon taking office the Trump administration will evaluate this case and all related aspects of the Affordable Care Act In a potentially decision in 2015 Judge Rosemary M Collyer ruled that House Republicans had the standing to sue the executive branch over a spending dispute and that the Obama administration had been distributing the health insurance subsidies in violation of the Constitution without approval from Congress', 'The Justice Department confident that Judge Collyer s decision would be reversed quickly appealed and the subsidies have remained in place during the appeal In successfully seeking a temporary halt in the proceedings after Mr Trump won House Republicans last month told the court that they and the s transition team currently are discussing potential options for resolution of this matter to take effect after the s inauguration on Jan 20 2017', 'The suspension of the case House lawyers said will provide the and his future administration time to consider whether to continue prosecuting or to otherwise resolve this appeal Republican leadership officials in the House acknowledge the possibility of cascading effects if the payments which have totaled an estimated 13 billion are suddenly stopped Insurers that receive the subsidies in exchange for paying costs such as deductibles and for eligible consumers could race to drop coverage since they would be losing money Over', 'all the loss of the subsidies could destabilize the entire program and cause a lack of confidence that leads other insurers to seek a quick exit as well Anticipating that the Trump administration might not be inclined to mount a vigorous fight against the House Republicans given the s dim view of the health care law a team of lawyers this month sought to intervene in the case on behalf of two participants in the health care program In their request the lawyers predicted that a deal between House Republicans and the new administration to dismiss or settle the case will produce devastating consequences for the individuals who receive these reductions as well as for the nation s health insurance and health care systems', 'generally No matter what happens', 'House Republicans say they want to prevail on two overarching concepts the congressional power of the purse and the right of Congress to sue the executive branch if it violates the Constitution regarding that spending power House Republicans contend that Congress never appropriated the money for the subsidies as required by the Constitution In the suit which was initially championed by John A Boehner the House speaker at the time and later in House committee reports Republicans asserted that the administration desperate for the funding had required the Treasury Department to provide it despite widespread internal skepticism that the spending was proper', 'The White House said that the spending was a permanent part of the law passed in 2010 and that no annual appropriation was required even though the administration initially sought one Just as important to', 'House Republicans Judge Collyer found that Congress had the standing to sue the White House on this issue a ruling that many legal experts said was flawed and they want that precedent to be set to restore congressional leverage over the executive branch', 'But on spending power and standing the Trump administration may come under pressure from advocates of presidential authority to fight the House no matter their shared views on health care since those precedents could have broad repercussions', 'It is a complicated set of dynamics illustrating how a quick legal victory for the House in the Trump era might come with costs that Republicans never anticipated when they took on the Obama White House']\n",
            "**************************** Start of Article Testing ****************************\n",
            "[1 1 0 1 1 0 1 0 0 0 0 1 0 0 0 1 0]\n",
            "1\n",
            "WASHINGTON Congressional Republicans have a new fear when it comes to their health care lawsuit against the Obama administration\n",
            "1\n",
            "They might win\n",
            "0\n",
            "The incoming Trump administration could choose to no longer defend the executive branch against the suit which challenges the administration s authority to spend billions of dollars on health insurance subsidies for and Americans handing House Republicans a big victory on issues But a sudden loss of the disputed subsidies could conceivably cause the health care program to implode leaving millions of people without access to health insurance before Republicans have prepared a replacement That could lead to chaos in the insurance market and spur a political backlash just as Republicans gain full control of the government To stave off that outcome Republicans could find themselves in the awkward position of appropriating huge sums to temporarily prop up the Obama health care law angering conservative voters who have been demanding an end to the law for years\n",
            "1\n",
            "In another twist Donald J Trump s administration worried about preserving executive branch prerogatives could choose to fight its Republican allies in the House on some central questions in the dispute Eager to avoid an ugly political pileup Republicans on Capitol Hill and the Trump transition team are gaming out how to handle the lawsuit which after the election has been put in limbo until at least late February by the United States Court of Appeals for the District of Columbia Circuit\n",
            "1\n",
            "They are not yet ready to divulge their strategy\n",
            "0\n",
            "Given that this pending litigation involves the Obama administration and Congress it would be inappropriate to comment\n",
            "1\n",
            "said Phillip J Blando a spokesman for the Trump transition effort\n",
            "0\n",
            "Upon taking office the Trump administration will evaluate this case and all related aspects of the Affordable Care Act In a potentially decision in 2015 Judge Rosemary M Collyer ruled that House Republicans had the standing to sue the executive branch over a spending dispute and that the Obama administration had been distributing the health insurance subsidies in violation of the Constitution without approval from Congress\n",
            "0\n",
            "The Justice Department confident that Judge Collyer s decision would be reversed quickly appealed and the subsidies have remained in place during the appeal In successfully seeking a temporary halt in the proceedings after Mr Trump won House Republicans last month told the court that they and the s transition team currently are discussing potential options for resolution of this matter to take effect after the s inauguration on Jan 20 2017\n",
            "0\n",
            "The suspension of the case House lawyers said will provide the and his future administration time to consider whether to continue prosecuting or to otherwise resolve this appeal Republican leadership officials in the House acknowledge the possibility of cascading effects if the payments which have totaled an estimated 13 billion are suddenly stopped Insurers that receive the subsidies in exchange for paying costs such as deductibles and for eligible consumers could race to drop coverage since they would be losing money Over\n",
            "0\n",
            "all the loss of the subsidies could destabilize the entire program and cause a lack of confidence that leads other insurers to seek a quick exit as well Anticipating that the Trump administration might not be inclined to mount a vigorous fight against the House Republicans given the s dim view of the health care law a team of lawyers this month sought to intervene in the case on behalf of two participants in the health care program In their request the lawyers predicted that a deal between House Republicans and the new administration to dismiss or settle the case will produce devastating consequences for the individuals who receive these reductions as well as for the nation s health insurance and health care systems\n",
            "1\n",
            "generally No matter what happens\n",
            "0\n",
            "House Republicans say they want to prevail on two overarching concepts the congressional power of the purse and the right of Congress to sue the executive branch if it violates the Constitution regarding that spending power House Republicans contend that Congress never appropriated the money for the subsidies as required by the Constitution In the suit which was initially championed by John A Boehner the House speaker at the time and later in House committee reports Republicans asserted that the administration desperate for the funding had required the Treasury Department to provide it despite widespread internal skepticism that the spending was proper\n",
            "0\n",
            "The White House said that the spending was a permanent part of the law passed in 2010 and that no annual appropriation was required even though the administration initially sought one Just as important to\n",
            "0\n",
            "House Republicans Judge Collyer found that Congress had the standing to sue the White House on this issue a ruling that many legal experts said was flawed and they want that precedent to be set to restore congressional leverage over the executive branch\n",
            "1\n",
            "But on spending power and standing the Trump administration may come under pressure from advocates of presidential authority to fight the House no matter their shared views on health care since those precedents could have broad repercussions\n",
            "0\n",
            "It is a complicated set of dynamics illustrating how a quick legal victory for the House in the Trump era might come with costs that Republicans never anticipated when they took on the Obama White House\n"
          ]
        }
      ]
    },
    {
      "cell_type": "code",
      "metadata": {
        "colab": {
          "base_uri": "https://localhost:8080/"
        },
        "id": "dH00cDj94H4_",
        "outputId": "43dd1192-aeda-4b51-a911-47879161a87f"
      },
      "source": [
        "!wget https://people.cs.umass.edu/~miyyer/data/sample_ibc.tar.gz"
      ],
      "execution_count": null,
      "outputs": [
        {
          "output_type": "stream",
          "name": "stdout",
          "text": [
            "--2021-10-19 00:24:10--  https://people.cs.umass.edu/~miyyer/data/sample_ibc.tar.gz\n",
            "Resolving people.cs.umass.edu (people.cs.umass.edu)... 128.119.240.99\n",
            "Connecting to people.cs.umass.edu (people.cs.umass.edu)|128.119.240.99|:443... connected.\n",
            "HTTP request sent, awaiting response... 200 OK\n",
            "Length: 235520 (230K) [application/x-gzip]\n",
            "Saving to: ‘sample_ibc.tar.gz’\n",
            "\n",
            "sample_ibc.tar.gz   100%[===================>] 230.00K  1.19MB/s    in 0.2s    \n",
            "\n",
            "2021-10-19 00:24:11 (1.19 MB/s) - ‘sample_ibc.tar.gz’ saved [235520/235520]\n",
            "\n"
          ]
        }
      ]
    },
    {
      "cell_type": "code",
      "metadata": {
        "id": "MejsMpnj4XwH"
      },
      "source": [
        "!tar -xf sample_ibc.tar.gz"
      ],
      "execution_count": null,
      "outputs": []
    },
    {
      "cell_type": "code",
      "metadata": {
        "colab": {
          "base_uri": "https://localhost:8080/"
        },
        "id": "YY8Bj4hV6mT2",
        "outputId": "22aad46f-5590-4fa4-c5d4-1c0550021c35"
      },
      "source": [
        "import pickle\n",
        "[lib, con, neutral] = pickle.load(open('sampleData.pkl', 'rb'))\n",
        "\n",
        "df_dataset = pd.DataFrame(columns=['text', 'label'])\n",
        "# how to access sentence text\n",
        "# print ('Liberal examples (out of ', len(lib), ' sentences): ')\n",
        "for tree in lib:\n",
        "  df_dataset = df_dataset.append({'text': tree.get_words(), 'label':1}, ignore_index=True)\n",
        "  # print (tree.get_words())\n",
        "\n",
        "# print ('\\nConservative examples (out of ', len(con), ' sentences): ')\n",
        "for tree in con:\n",
        "  df_dataset = df_dataset.append({'text': tree.get_words(), 'label':-1}, ignore_index=True)\n",
        "  # print (tree.get_words())\n",
        "\n",
        "# print ('\\nNeutral examples (out of ', len(neutral), ' sentences): ')\n",
        "for tree in neutral:\n",
        "  df_dataset = df_dataset.append({'text': tree.get_words(), 'label':0}, ignore_index=True)\n",
        "  # print (tree.get_words())\n",
        "\n",
        "print(df_dataset.head(101))\n",
        "\n",
        "\n"
      ],
      "execution_count": null,
      "outputs": [
        {
          "output_type": "stream",
          "name": "stdout",
          "text": [
            "                                                  text label\n",
            "0    First , government plays an important role thr...     1\n",
            "1    And `` once we think positively about the Stat...     1\n",
            "2    The narrow-minded rationality of the capitalis...     1\n",
            "3    The resulting global warming kills Amazonian t...     1\n",
            "4    If evolution is improvement and improvement is...     1\n",
            "..                                                 ...   ...\n",
            "96   In an op-ed for CNN , Otis argued that excessi...    -1\n",
            "97   `` Central banks are grasping at straws , hopi...    -1\n",
            "98   The possibility of a general loss of confidenc...    -1\n",
            "99   During the 1920s , Great Britain , terrified o...    -1\n",
            "100  This problem is exacerbated because using your...     0\n",
            "\n",
            "[101 rows x 2 columns]\n"
          ]
        }
      ]
    },
    {
      "cell_type": "markdown",
      "metadata": {
        "id": "-ReiB5VbyxdA"
      },
      "source": [
        "# Political Model\n"
      ]
    },
    {
      "cell_type": "code",
      "metadata": {
        "id": "Z0i7SFgUyviW"
      },
      "source": [
        "X_train,X_test,y_train,y_test = train_test_split(df_pol[0], df_pol[2], test_size=0.2, random_state=42)\n",
        "# count_vectorizer = CountVectorizer(stop_words='english')\n",
        "print()\n",
        "\n",
        "# # Fit and transform the training data \n",
        "# count_train = count_vectorizer.fit_transform(X_train) \n",
        "\n",
        "# # Transform the test set \n",
        "# count_test = count_vectorizer.transform(X_test)\n",
        "\n",
        "# # Create a random forest Classifier. By convention, clf means 'Classifier'\n",
        "clf_pol = RandomForestClassifier(n_jobs=2, random_state=0)\n",
        "\n",
        "# Initialize the `tfidf_vectorizer` \n",
        "tfidf_vectorizer = TfidfVectorizer(stop_words='english', max_df=0.7) \n",
        "\n",
        "# Fit and transform the training data \n",
        "tfidf_train = tfidf_vectorizer.fit_transform(X_train) \n",
        "\n",
        "# Transform the test set \n",
        "tfidf_test = tfidf_vectorizer.transform(X_test)\n",
        "\n",
        "\n",
        "# Train the Classifier to take the training features and learn how they relate\n",
        "# to the training y (the species)\n",
        "clf_pol.fit(tfidf_train,y_train)\n",
        "preds = clf_pol.predict(tfidf_test)"
      ],
      "execution_count": null,
      "outputs": []
    },
    {
      "cell_type": "code",
      "metadata": {
        "id": "HDeucuK8zHN2"
      },
      "source": [
        "pd.crosstab(y_test, preds, rownames=['Actual value'], colnames=['Predicted value'])\n",
        "print(clf_pol.score(tfidf_test, y_test) *100, '%')\n",
        "\n",
        "for i,value in enumerate(X_test):\n",
        "  print(value,\"'\", preds[i],\"'\")"
      ],
      "execution_count": null,
      "outputs": []
    }
  ]
}